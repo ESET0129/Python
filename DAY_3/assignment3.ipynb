{
 "cells": [
  {
   "cell_type": "markdown",
   "id": "9717d0b5",
   "metadata": {},
   "source": [
    "assignment day 3\n"
   ]
  },
  {
   "cell_type": "markdown",
   "id": "87180918",
   "metadata": {},
   "source": [
    "ASSIGNMENT 3  {using numpy an pandas create a small dataanalysis script}"
   ]
  },
  {
   "cell_type": "code",
   "execution_count": 3,
   "id": "d145eed5",
   "metadata": {},
   "outputs": [],
   "source": [
    "import numpy as np\n",
    "import pandas as pd"
   ]
  },
  {
   "cell_type": "code",
   "execution_count": 11,
   "id": "478dbecb",
   "metadata": {},
   "outputs": [],
   "source": [
    "y=np.array([[1,2,3],[3,4,5],[5,6,7]])"
   ]
  },
  {
   "cell_type": "markdown",
   "id": "30090e5c",
   "metadata": {},
   "source": [
    "baic array print"
   ]
  },
  {
   "cell_type": "code",
   "execution_count": 12,
   "id": "dd5499f3",
   "metadata": {},
   "outputs": [
    {
     "name": "stdout",
     "output_type": "stream",
     "text": [
      "[[1 2 3]\n",
      " [3 4 5]\n",
      " [5 6 7]]\n"
     ]
    }
   ],
   "source": [
    "print(y)"
   ]
  },
  {
   "cell_type": "code",
   "execution_count": 16,
   "id": "25350544",
   "metadata": {},
   "outputs": [],
   "source": [
    "y= y*2"
   ]
  },
  {
   "cell_type": "markdown",
   "id": "0973d6cc",
   "metadata": {},
   "source": [
    "new array"
   ]
  },
  {
   "cell_type": "code",
   "execution_count": 17,
   "id": "a57859c8",
   "metadata": {},
   "outputs": [
    {
     "name": "stdout",
     "output_type": "stream",
     "text": [
      "[[ 2  4  6]\n",
      " [ 6  8 10]\n",
      " [10 12 14]]\n"
     ]
    }
   ],
   "source": [
    "print(y)"
   ]
  },
  {
   "cell_type": "markdown",
   "id": "047c1d65",
   "metadata": {},
   "source": [
    "section 2 : dataframe"
   ]
  },
  {
   "cell_type": "code",
   "execution_count": 49,
   "id": "00fa1b0d",
   "metadata": {},
   "outputs": [
    {
     "name": "stdout",
     "output_type": "stream",
     "text": [
      "\n",
      "pandas DataFrame:\n",
      "  product_name price  stock_quantity\n",
      "0            a    10             100\n",
      "1            b    20             200\n",
      "2            c    30              50\n"
     ]
    }
   ],
   "source": [
    "import pandas as pd\n",
    "data={\n",
    "    'product_name':['a','b','c'],\n",
    "    'price':['10','20','30'],\n",
    "    'stock_quantity':[100,200,50]\n",
    "}\n",
    "df=pd.DataFrame(data)\n",
    "print(f\"\\npandas DataFrame:\\n{df}\")"
   ]
  },
  {
   "cell_type": "markdown",
   "id": "d7a15b80",
   "metadata": {},
   "source": [
    "section 3 : filtering the data"
   ]
  },
  {
   "cell_type": "code",
   "execution_count": 48,
   "id": "346a7409",
   "metadata": {},
   "outputs": [
    {
     "name": "stdout",
     "output_type": "stream",
     "text": [
      "\n",
      "pandas DataFrame:\n",
      "  product_name price  stock_quantity\n",
      "0            a    10             100\n",
      "1            b    20             200\n"
     ]
    }
   ],
   "source": [
    "df=pd.DataFrame(data)\n",
    "\n",
    "newdf=df[df['stock_quantity']>50]\n",
    "#df=pd.DataFrame(newdf)\n",
    "#newdf=df['stock_quantity']>50]\n",
    "print(f\"\\npandas DataFrame:\\n{newdf}\")\n",
    "\n"
   ]
  },
  {
   "cell_type": "code",
   "execution_count": null,
   "id": "c3d307aa",
   "metadata": {},
   "outputs": [],
   "source": []
  },
  {
   "cell_type": "code",
   "execution_count": null,
   "id": "332794a9",
   "metadata": {},
   "outputs": [],
   "source": []
  }
 ],
 "metadata": {
  "kernelspec": {
   "display_name": "my_env",
   "language": "python",
   "name": "python3"
  },
  "language_info": {
   "codemirror_mode": {
    "name": "ipython",
    "version": 3
   },
   "file_extension": ".py",
   "mimetype": "text/x-python",
   "name": "python",
   "nbconvert_exporter": "python",
   "pygments_lexer": "ipython3",
   "version": "3.13.7"
  }
 },
 "nbformat": 4,
 "nbformat_minor": 5
}
